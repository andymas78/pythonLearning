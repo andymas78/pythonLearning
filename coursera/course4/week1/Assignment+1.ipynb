{
 "cells": [
  {
   "cell_type": "markdown",
   "metadata": {},
   "source": [
    "---\n",
    "\n",
    "_You are currently looking at **version 1.1** of this notebook. To download notebooks and datafiles, as well as get help on Jupyter notebooks in the Coursera platform, visit the [Jupyter Notebook FAQ](https://www.coursera.org/learn/python-text-mining/resources/d9pwm) course resource._\n",
    "\n",
    "---"
   ]
  },
  {
   "cell_type": "markdown",
   "metadata": {},
   "source": [
    "# Assignment 1\n",
    "\n",
    "In this assignment, you'll be working with messy medical data and using regex to extract relevant infromation from the data. \n",
    "\n",
    "Each line of the `dates.txt` file corresponds to a medical note. Each note has a date that needs to be extracted, but each date is encoded in one of many formats.\n",
    "\n",
    "The goal of this assignment is to correctly identify all of the different date variants encoded in this dataset and to properly normalize and sort the dates. \n",
    "\n",
    "Here is a list of some of the variants you might encounter in this dataset:\n",
    "* 04/20/2009; 04/20/09; 4/20/09; 4/3/09\n",
    "* Mar-20-2009; Mar 20, 2009; March 20, 2009;  Mar. 20, 2009; Mar 20 2009;\n",
    "* 20 Mar 2009; 20 March 2009; 20 Mar. 2009; 20 March, 2009\n",
    "* Mar 20th, 2009; Mar 21st, 2009; Mar 22nd, 2009\n",
    "* Feb 2009; Sep 2009; Oct 2010\n",
    "* 6/2008; 12/2009\n",
    "* 2009; 2010\n",
    "\n",
    "Once you have extracted these date patterns from the text, the next step is to sort them in ascending chronological order accoring to the following rules:\n",
    "* Assume all dates in xx/xx/xx format are mm/dd/yy\n",
    "* Assume all dates where year is encoded in only two digits are years from the 1900's (e.g. 1/5/89 is January 5th, 1989)\n",
    "* If the day is missing (e.g. 9/2009), assume it is the first day of the month (e.g. September 1, 2009).\n",
    "* If the month is missing (e.g. 2010), assume it is the first of January of that year (e.g. January 1, 2010).\n",
    "* Watch out for potential typos as this is a raw, real-life derived dataset.\n",
    "\n",
    "With these rules in mind, find the correct date in each note and return a pandas Series in chronological order of the original Series' indices.\n",
    "\n",
    "For example if the original series was this:\n",
    "\n",
    "    0    1999\n",
    "    1    2010\n",
    "    2    1978\n",
    "    3    2015\n",
    "    4    1985\n",
    "\n",
    "Your function should return this:\n",
    "\n",
    "    0    2\n",
    "    1    4\n",
    "    2    0\n",
    "    3    1\n",
    "    4    3\n",
    "\n",
    "Your score will be calculated using [Kendall's tau](https://en.wikipedia.org/wiki/Kendall_rank_correlation_coefficient), a correlation measure for ordinal data.\n",
    "\n",
    "*This function should return a Series of length 500 and dtype int.*"
   ]
  },
  {
   "cell_type": "code",
   "execution_count": 1,
   "metadata": {},
   "outputs": [
    {
     "data": {
      "text/plain": [
       "0         03/25/93 Total time of visit (in minutes):\\n\n",
       "1                       6/18/85 Primary Care Doctor:\\n\n",
       "2    sshe plans to move as of 7/8/71 In-Home Servic...\n",
       "3                7 on 9/27/75 Audit C Score Current:\\n\n",
       "4    2/6/96 sleep studyPain Treatment Pain Level (N...\n",
       "5                    .Per 7/06/79 Movement D/O note:\\n\n",
       "6    4, 5/18/78 Patient's thoughts about current su...\n",
       "7    10/24/89 CPT Code: 90801 - Psychiatric Diagnos...\n",
       "8                         3/7/86 SOS-10 Total Score:\\n\n",
       "9             (4/10/71)Score-1Audit C Score Current:\\n\n",
       "dtype: object"
      ]
     },
     "execution_count": 1,
     "metadata": {},
     "output_type": "execute_result"
    }
   ],
   "source": [
    "import pandas as pd\n",
    "import datetime\n",
    "\n",
    "doc = []\n",
    "with open('dates.txt') as file:\n",
    "    for line in file:\n",
    "        doc.append(line)\n",
    "\n",
    "df = pd.Series(doc)\n",
    "df.head(10)"
   ]
  },
  {
   "cell_type": "code",
   "execution_count": 2,
   "metadata": {
    "collapsed": true
   },
   "outputs": [],
   "source": [
    "def convert_month(mon):\n",
    "    return {\n",
    "        \"Jan\" : 1,\n",
    "        \"Feb\" : 2,\n",
    "        \"Mar\" : 3,\n",
    "        \"Apr\" : 4,\n",
    "        \"May\" : 5,\n",
    "        \"Jun\" : 6,\n",
    "        \"Jul\" : 7,\n",
    "        \"Aug\" : 8,\n",
    "        \"Sep\" : 9,\n",
    "        \"Oct\" : 10,\n",
    "        \"Nov\" : 11,\n",
    "        \"Dec\" : 12\n",
    "    }.get(mon, mon)"
   ]
  },
  {
   "cell_type": "code",
   "execution_count": 3,
   "metadata": {
    "collapsed": true
   },
   "outputs": [],
   "source": [
    "def standardize_date(day, month, year):\n",
    "    # print(\"A:\", day, month, year)\n",
    "    day = convert_month(day)\n",
    "    month = convert_month(month)\n",
    "    # print(\"B:\", day, month, year)\n",
    "    iday = int(day)\n",
    "    imonth = int(month)\n",
    "    iyear = int(year)\n",
    "    \n",
    "    if imonth > 12:\n",
    "        tmp = imonth\n",
    "        imonth = iday\n",
    "        iday = tmp\n",
    "        \n",
    "    if iyear < 20:\n",
    "        iyear += 2000\n",
    "    if iyear < 100:\n",
    "        iyear += 1900\n",
    "    \n",
    "    # print(\"Z:\", day, month, year)\n",
    "    dt = datetime.datetime(iyear, imonth, iday, 0, 0, 0)\n",
    "\n",
    "    return \"{:%Y%m%d}\".format(dt)"
   ]
  },
  {
   "cell_type": "code",
   "execution_count": 4,
   "metadata": {},
   "outputs": [],
   "source": [
    "def date_sorter():\n",
    "    \n",
    "    df = pd.Series(doc)\n",
    "    # day-mon-year / mon-day-year\n",
    "    df = df.str.replace(r\"^.*?(?P<month>\\d{1,2})[/-](?P<day>\\d{1,2})[/-](?P<year>\\d{2,4}).*\\n$\", \n",
    "                        lambda x : standardize_date(x.group(\"day\"),x.group(\"month\"),x.group(\"year\")) )\n",
    "    # MON-day-year\n",
    "    df = df.str.replace(r\"^.*?(?P<month>(Jan|Feb|Mar|Apr|May|Jun|Jul|Aug|Sep|Oct|Nov|Dec)).*?[ -/](?P<day>\\d{1,2}),?[ /-](?P<year>\\d{2,4}).*\\n$\",\n",
    "                        lambda x : standardize_date(x.group(\"day\"),x.group(\"month\"),x.group(\"year\")) )\n",
    "    # day-MON-year\n",
    "    df = df.str.replace(r\"^.*?(?P<day>\\d{1,2})[ /-](?P<month>(Jan|Feb|Mar|Apr|May|Jun|Jul|Aug|Sep|Oct|Nov|Dec)).*?[ -/](?P<year>\\d{2,4}).*\\n$\",\n",
    "                        lambda x : standardize_date(x.group(\"day\"),x.group(\"month\"),x.group(\"year\")) )\n",
    "    # MON-year\n",
    "    df = df.str.replace(r\"^.*?(?P<month>(Jan|Feb|Mar|Apr|May|Jun|Jul|Aug|Sep|Oct|Nov|Dec)).*?,?[ /-](?P<year>\\d{2,4}).*\\n$\",\n",
    "                        lambda x : standardize_date(1,x.group(\"month\"),x.group(\"year\")) )\n",
    "    # mon-year\n",
    "    df = df.str.replace(r\"^.*?(?P<month>\\d{1,2})[/-](?P<year>\\d{2,4}).*\\n$\", \n",
    "                        lambda x : standardize_date(1,x.group(\"month\"),x.group(\"year\")) )\n",
    "    # year\n",
    "    df = df.str.replace(r\"^.*?(?P<year>\\d{4}).*\\n$\", \n",
    "                        lambda x : standardize_date(1,\"Jan\",x.group(\"year\")) )\n",
    "    \n",
    "    return pd.Series(df.sort_values(ascending=True).index)"
   ]
  },
  {
   "cell_type": "code",
   "execution_count": 5,
   "metadata": {},
   "outputs": [],
   "source": [
    "# [x for x in df.values if len(x) >8]"
   ]
  },
  {
   "cell_type": "code",
   "execution_count": 6,
   "metadata": {},
   "outputs": [],
   "source": [
    "# date_sorter()"
   ]
  }
 ],
 "metadata": {
  "anaconda-cloud": {},
  "coursera": {
   "course_slug": "python-text-mining",
   "graded_item_id": "LvcWI",
   "launcher_item_id": "krne9",
   "part_id": "Mkp1I"
  },
  "kernelspec": {
   "display_name": "Python [default]",
   "language": "python",
   "name": "python3"
  },
  "language_info": {
   "codemirror_mode": {
    "name": "ipython",
    "version": 3
   },
   "file_extension": ".py",
   "mimetype": "text/x-python",
   "name": "python",
   "nbconvert_exporter": "python",
   "pygments_lexer": "ipython3",
   "version": "3.5.3"
  }
 },
 "nbformat": 4,
 "nbformat_minor": 2
}
