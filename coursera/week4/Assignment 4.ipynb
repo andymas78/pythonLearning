{
 "cells": [
  {
   "cell_type": "markdown",
   "metadata": {},
   "source": [
    "---\n",
    "\n",
    "_You are currently looking at **version 1.1** of this notebook. To download notebooks and datafiles, as well as get help on Jupyter notebooks in the Coursera platform, visit the [Jupyter Notebook FAQ](https://www.coursera.org/learn/python-data-analysis/resources/0dhYG) course resource._\n",
    "\n",
    "---"
   ]
  },
  {
   "cell_type": "code",
   "execution_count": 5,
   "metadata": {
    "collapsed": true
   },
   "outputs": [],
   "source": [
    "import pandas as pd\n",
    "import numpy as np\n",
    "from scipy.stats import ttest_ind\n",
    "import re"
   ]
  },
  {
   "cell_type": "markdown",
   "metadata": {},
   "source": [
    "# Assignment 4 - Hypothesis Testing\n",
    "This assignment requires more individual learning than previous assignments - you are encouraged to check out the [pandas documentation](http://pandas.pydata.org/pandas-docs/stable/) to find functions or methods you might not have used yet, or ask questions on [Stack Overflow](http://stackoverflow.com/) and tag them as pandas and python related. And of course, the discussion forums are open for interaction with your peers and the course staff.\n",
    "\n",
    "Definitions:\n",
    "* A _quarter_ is a specific three month period, Q1 is January through March, Q2 is April through June, Q3 is July through September, Q4 is October through December.\n",
    "* A _recession_ is defined as starting with two consecutive quarters of GDP decline, and ending with two consecutive quarters of GDP growth.\n",
    "* A _recession bottom_ is the quarter within a recession which had the lowest GDP.\n",
    "* A _university town_ is a city which has a high percentage of university students compared to the total population of the city.\n",
    "\n",
    "**Hypothesis**: University towns have their mean housing prices less effected by recessions. Run a t-test to compare the ratio of the mean price of houses in university towns the quarter before the recession starts compared to the recession bottom. (`price_ratio=quarter_before_recession/recession_bottom`)\n",
    "\n",
    "The following data files are available for this assignment:\n",
    "* From the [Zillow research data site](http://www.zillow.com/research/data/) there is housing data for the United States. In particular the datafile for [all homes at a city level](http://files.zillowstatic.com/research/public/City/City_Zhvi_AllHomes.csv), ```City_Zhvi_AllHomes.csv```, has median home sale prices at a fine grained level.\n",
    "* From the Wikipedia page on college towns is a list of [university towns in the United States](https://en.wikipedia.org/wiki/List_of_college_towns#College_towns_in_the_United_States) which has been copy and pasted into the file ```university_towns.txt```.\n",
    "* From Bureau of Economic Analysis, US Department of Commerce, the [GDP over time](http://www.bea.gov/national/index.htm#gdp) of the United States in current dollars (use the chained value in 2009 dollars), in quarterly intervals, in the file ```gdplev.xls```. For this assignment, only look at GDP data from the first quarter of 2000 onward.\n",
    "\n",
    "Each function in this assignment below is worth 10%, with the exception of ```run_ttest()```, which is worth 50%."
   ]
  },
  {
   "cell_type": "code",
   "execution_count": 6,
   "metadata": {
    "collapsed": true
   },
   "outputs": [],
   "source": [
    "# Use this dictionary to map state names to two letter acronyms\n",
    "states = {'OH': 'Ohio', 'KY': 'Kentucky', 'AS': 'American Samoa', 'NV': 'Nevada', 'WY': 'Wyoming', 'NA': 'National', 'AL': 'Alabama', 'MD': 'Maryland', 'AK': 'Alaska', 'UT': 'Utah', 'OR': 'Oregon', 'MT': 'Montana', 'IL': 'Illinois', 'TN': 'Tennessee', 'DC': 'District of Columbia', 'VT': 'Vermont', 'ID': 'Idaho', 'AR': 'Arkansas', 'ME': 'Maine', 'WA': 'Washington', 'HI': 'Hawaii', 'WI': 'Wisconsin', 'MI': 'Michigan', 'IN': 'Indiana', 'NJ': 'New Jersey', 'AZ': 'Arizona', 'GU': 'Guam', 'MS': 'Mississippi', 'PR': 'Puerto Rico', 'NC': 'North Carolina', 'TX': 'Texas', 'SD': 'South Dakota', 'MP': 'Northern Mariana Islands', 'IA': 'Iowa', 'MO': 'Missouri', 'CT': 'Connecticut', 'WV': 'West Virginia', 'SC': 'South Carolina', 'LA': 'Louisiana', 'KS': 'Kansas', 'NY': 'New York', 'NE': 'Nebraska', 'OK': 'Oklahoma', 'FL': 'Florida', 'CA': 'California', 'CO': 'Colorado', 'PA': 'Pennsylvania', 'DE': 'Delaware', 'NM': 'New Mexico', 'RI': 'Rhode Island', 'MN': 'Minnesota', 'VI': 'Virgin Islands', 'NH': 'New Hampshire', 'MA': 'Massachusetts', 'GA': 'Georgia', 'ND': 'North Dakota', 'VA': 'Virginia'}"
   ]
  },
  {
   "cell_type": "code",
   "execution_count": 7,
   "metadata": {
    "collapsed": true
   },
   "outputs": [],
   "source": [
    "def get_list_of_university_towns():\n",
    "    '''Returns a DataFrame of towns and the states they are in from the \n",
    "    university_towns.txt list. The format of the DataFrame should be:\n",
    "    DataFrame( [ [\"Michigan\", \"Ann Arbor\"], [\"Michigan\", \"Yipsilanti\"] ], \n",
    "    columns=[\"State\", \"RegionName\"]  )\n",
    "    \n",
    "    The following cleaning needs to be done:\n",
    "\n",
    "    1. For \"State\", removing characters from \"[\" to the end.\n",
    "    2. For \"RegionName\", when applicable, removing every character from \" (\" to the end.\n",
    "    3. Depending on how you read the data, you may need to remove newline character '\\n'. '''\n",
    "    town_f = open(\"university_towns.txt\",\"r\",encoding='utf8')\n",
    "    state=\"\"\n",
    "    city=\"\"\n",
    "    town_list=[]\n",
    "    stateMatch = re.compile(\".*\\[edit].*\")\n",
    "\n",
    "    for line in town_f:\n",
    "        # Can't resist the most basic of data cleansing!\n",
    "        line = re.sub(\"\\n\",\"\",line)\n",
    "\n",
    "        if stateMatch.match( line ):\n",
    "            state = line\n",
    "        else:\n",
    "            city = line\n",
    "\n",
    "        if state != \"\" and city != \"\":\n",
    "            town_list += [[state, city]]\n",
    "            city = \"\"\n",
    "\n",
    "    towns = pd.DataFrame( town_list, columns=[\"State\", \"RegionName\"])\n",
    "    towns['State'] = towns['State'].map(lambda x : re.sub(\"(\\[.*?])\", \"\", x))\n",
    "    towns['RegionName'] = towns['RegionName'].map(lambda x : re.sub(\"(\\[.*?])\", \"\", re.sub(\" (\\(.*?$)\", \"\", x)))\n",
    "    \n",
    "    return towns"
   ]
  },
  {
   "cell_type": "code",
   "execution_count": 8,
   "metadata": {
    "collapsed": true
   },
   "outputs": [],
   "source": [
    "def get_recession_start():\n",
    "    '''Returns the year and quarter of the recession start time as a \n",
    "    string value in a format such as 2005q3'''\n",
    "    gdp = pd.read_excel('gdplev.xls', sheetname='Sheet1', skiprows=7,parse_cols=\"E:G\",header=0,index_col=0,\n",
    "                        names=['gdpd','gdpcd'])\n",
    "    gdp = gdp[(gdp.index > '2000aa')]\n",
    "    gdp['gdp_diff']=gdp['gdpcd'].diff().shift(-1)\n",
    "    #print(gdp)\n",
    "    \n",
    "    for a in range(len(gdp)):\n",
    "        #print(gdp.iloc[a])\n",
    "        if (gdp.iloc[a]['gdp_diff'] < 0) and (gdp.iloc[a-1]['gdp_diff'] < 0):\n",
    "            return gdp.iloc[a].name\n",
    "    \n",
    "    return \"\""
   ]
  },
  {
   "cell_type": "code",
   "execution_count": 9,
   "metadata": {
    "collapsed": true
   },
   "outputs": [],
   "source": [
    "def get_recession_end():\n",
    "    '''Returns the year and quarter of the recession end time as a \n",
    "    string value in a format such as 2005q3'''\n",
    "    gdp = pd.read_excel('gdplev.xls', sheetname='Sheet1', skiprows=7,parse_cols=\"E:G\",header=0,index_col=0,\n",
    "                        names=['gdpd','gdpcd'])\n",
    "    gdp = gdp[(gdp.index > '2000aa')]\n",
    "    gdp['gdp_diff']=gdp['gdpcd'].diff()\n",
    "    #print(gdp)\n",
    "    \n",
    "    recessionStarted = False\n",
    "    \n",
    "    for a in range(len(gdp)):\n",
    "        #print(gdp.iloc[a])\n",
    "        if (gdp.iloc[a]['gdp_diff'] < 0) and (gdp.iloc[a-1]['gdp_diff'] < 0):\n",
    "            recessionStarted = True\n",
    "            #print( \"Recession started: \", gdp.iloc[a-1].name )\n",
    "        \n",
    "        if (gdp.iloc[a]['gdp_diff'] > 0) and (gdp.iloc[a-1]['gdp_diff'] > 0) and recessionStarted:\n",
    "            return gdp.iloc[a].name        \n",
    "    \n",
    "    return \"\""
   ]
  },
  {
   "cell_type": "code",
   "execution_count": null,
   "metadata": {
    "collapsed": true
   },
   "outputs": [],
   "source": [
    "def get_recession_bottom():\n",
    "    '''Returns the year and quarter of the recession bottom time as a \n",
    "    string value in a format such as 2005q3'''\n",
    "    gdp = pd.read_excel('gdplev.xls', sheetname='Sheet1', skiprows=7,parse_cols=\"E:G\",header=0,index_col=0,\n",
    "                        names=['gdpd','gdpcd'])\n",
    "    gdp = gdp[(gdp.index > '2000aa')]\n",
    "    gdp['gdp_diff']=gdp['gdpcd'].diff()\n",
    "    #print(gdp)\n",
    "    \n",
    "    recessionStarted = False\n",
    "    minGDP = 0\n",
    "    minGDPi = 0\n",
    "    \n",
    "    for a in range(len(gdp)):\n",
    "        #print(gdp.iloc[a])\n",
    "        if (gdp.iloc[a]['gdp_diff'] < 0) and (gdp.iloc[a-1]['gdp_diff'] < 0):\n",
    "            recessionStarted = True\n",
    "            minGDP=gdp.iloc[a]['gdpcd']\n",
    "            minGDPi=a\n",
    "            #print( \"Recession started: \", gdp.iloc[a-1].name )\n",
    "        \n",
    "        if recessionStarted and (minGDP > gdp.iloc[a]['gdpcd']):\n",
    "            minGDP=gdp.iloc[a]['gdpcd']\n",
    "            minGDPi=a\n",
    "        \n",
    "        if (gdp.iloc[a]['gdp_diff'] > 0) and (gdp.iloc[a-1]['gdp_diff'] > 0) and recessionStarted:\n",
    "            return gdp.iloc[minGDPi].name      \n",
    "    \n",
    "    return \"\""
   ]
  },
  {
   "cell_type": "code",
   "execution_count": 13,
   "metadata": {
    "collapsed": true
   },
   "outputs": [],
   "source": [
    "def get_month_headings( yr, qtr, valid_months):\n",
    "    month_headings = []\n",
    "    \n",
    "    for count in range(1,4):\n",
    "        if qtr == 4:\n",
    "            mth=str(9+count)\n",
    "        else:\n",
    "            mth='0'+str((qtr-1)*3+count)\n",
    "            \n",
    "        curr_mth = str(yr)+'-'+mth\n",
    "        if (curr_mth in valid_months):\n",
    "            month_headings += [curr_mth]\n",
    "    \n",
    "    return month_headings\n",
    "\n",
    "def convert_housing_data_to_quarters():\n",
    "    '''Converts the housing data to quarters and returns it as mean \n",
    "    values in a dataframe. This dataframe should be a dataframe with\n",
    "    columns for 2000q1 through 2016q3, and should have a multi-index\n",
    "    in the shape of [\"State\",\"RegionName\"].\n",
    "    \n",
    "    Note: Quarters are defined in the assignment description, they are\n",
    "    not arbitrary three month periods.\n",
    "    \n",
    "    The resulting dataframe should have 67 columns, and 10,730 rows.\n",
    "    '''\n",
    "    workDF = pd.read_csv('City_Zhvi_AllHomes.csv')\n",
    "    \n",
    "    # The instructions don't state it but the state code must be mapped to a\n",
    "    # state name using the states dictionary\n",
    "    workDF['State'] = workDF['State'].map(lambda x: states.get(x))\n",
    "    workDF = workDF.set_index(['State','RegionName'])\n",
    "    \n",
    "    # Throw away the first 4 useless columns\n",
    "    years=workDF.columns[4:]\n",
    "    \n",
    "    # We're going to be throwing away columns so let's make a list of those to keep\n",
    "    cols_to_keep=[]\n",
    "\n",
    "    # We need to find which quarters we need to process, starting in year 2000\n",
    "    minYear = \"2000\"\n",
    "    maxYear = re.sub(\"(-..)\", \"\", years[len(years)-1])\n",
    "\n",
    "    for year in range(int(minYear),int(maxYear)+1):\n",
    "        for quarter in range(1,4+1):\n",
    "            mth = str((quarter-1)*3+1) if ((quarter-1)*3+1 >= 10) else '0'+str((quarter-1)*3+1)\n",
    "            \n",
    "            # Does this quarter exist in the dataset?\n",
    "            if (str(year)+'-'+mth in years):\n",
    "                \n",
    "                # Get the mean of the months in the quarter and write in YYYYqQ formatted column\n",
    "                workDF[str(year)+'q'+str(quarter)] = workDF[get_month_headings(year,quarter,years)].mean(axis=1)\n",
    "                \n",
    "                # We'll want to keep this new column we just created\n",
    "                cols_to_keep += [str(year)+'q'+str(quarter)]\n",
    "    \n",
    "    housingDF = workDF[cols_to_keep]\n",
    "    return housingDF"
   ]
  },
  {
   "cell_type": "code",
   "execution_count": 1,
   "metadata": {
    "collapsed": true
   },
   "outputs": [],
   "source": [
    "def run_ttest():\n",
    "    '''First creates new data showing the decline or growth of housing prices\n",
    "    between the recession start and the recession bottom. Then runs a ttest\n",
    "    comparing the university town values to the non-university towns values, \n",
    "    return whether the alternative hypothesis (that the two groups are the same)\n",
    "    is true or not as well as the p-value of the confidence. \n",
    "    \n",
    "    Return the tuple (different, p, better) where different=True if the t-test is\n",
    "    True at a p<0.01 (we reject the null hypothesis), or different=False if \n",
    "    otherwise (we cannot reject the null hypothesis). The variable p should\n",
    "    be equal to the exact p value returned from scipy.stats.ttest_ind(). The\n",
    "    value for better should be either \"university town\" or \"non-university town\"\n",
    "    depending on which has a lower mean price ratio (which is equivilent to a\n",
    "    reduced market loss).'''\n",
    "\n",
    "    # Load the housing data\n",
    "    housingDF = convert_housing_data_to_quarters()\n",
    "    # Calculate the Price Ratio\n",
    "    housingDF['Price Ratio'] = housingDF[get_recession_start()].div(housingDF[get_recession_bottom()])\n",
    "\n",
    "    # Reset the index so we can get rid of duplicate RegionName data\n",
    "    housingDF = housingDF.reset_index()\n",
    "    housingDF = housingDF[['State','RegionName','Price Ratio']] \n",
    "    housingDF = housingDF.groupby(['State','RegionName']).agg({'Price Ratio': np.average})\n",
    "    housingDF = housingDF.reset_index()    \n",
    "    housingDF = housingDF[['State','RegionName','Price Ratio']].dropna()\n",
    "\n",
    "    # Get the list of university towns with State and RegionName columns\n",
    "    university_towns = get_list_of_university_towns()\n",
    "    university_towns = university_towns.reset_index()\n",
    "    \n",
    "    # Merge housing and university town data\n",
    "    mergedData = pd.merge(housingDF, university_towns, how=\"outer\", left_on=['State','RegionName'], \n",
    "                          right_on=['State','RegionName'], indicator=True)\n",
    "    \n",
    "    # Data found in both datasets is a university town\n",
    "    uniTowns = mergedData[mergedData[\"_merge\"] == \"both\"].dropna()\n",
    "    #print(uniTowns)\n",
    "    \n",
    "    # Data only found in the housing dataset is a non-university town\n",
    "    nonUniTowns = mergedData[mergedData[\"_merge\"] == \"left_only\"][[\"State\",\"RegionName\",\"Price Ratio\",\"_merge\"]].dropna()\n",
    "    #print(nonUniTowns)\n",
    "    \n",
    "    (stats, pvalue) = ttest_ind(uniTowns['Price Ratio'], nonUniTowns['Price Ratio'])\n",
    "    \n",
    "    different = True if pvalue<0.01 else False\n",
    "    better = \"university town\"\n",
    "    \n",
    "    return (different, pvalue, better)"
   ]
  }
 ],
 "metadata": {
  "anaconda-cloud": {},
  "coursera": {
   "course_slug": "python-data-analysis",
   "graded_item_id": "Il9Fx",
   "launcher_item_id": "TeDW0",
   "part_id": "WGlun"
  },
  "kernelspec": {
   "display_name": "Python [conda env:py3]",
   "language": "python",
   "name": "conda-env-py3-py"
  },
  "language_info": {
   "codemirror_mode": {
    "name": "ipython",
    "version": 3
   },
   "file_extension": ".py",
   "mimetype": "text/x-python",
   "name": "python",
   "nbconvert_exporter": "python",
   "pygments_lexer": "ipython3",
   "version": "3.5.3"
  }
 },
 "nbformat": 4,
 "nbformat_minor": 1
}
